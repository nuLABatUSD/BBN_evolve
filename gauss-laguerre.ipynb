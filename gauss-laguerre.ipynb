{
 "cells": [
  {
   "cell_type": "code",
   "execution_count": 9,
   "id": "f9994872-d5bd-4f70-beec-e4309f9dee11",
   "metadata": {},
   "outputs": [],
   "source": [
    "import numpy as np\n",
    "import matplotlib as plt"
   ]
  },
  {
   "cell_type": "code",
   "execution_count": 11,
   "id": "6b3e1b41-52de-475e-a375-57fe92c8e526",
   "metadata": {},
   "outputs": [],
   "source": [
    "x,w=np.polynomial.laguerre.laggauss(50)"
   ]
  },
  {
   "cell_type": "code",
   "execution_count": 15,
   "id": "f2180ef4-a048-4c57-8482-5457e7aef552",
   "metadata": {},
   "outputs": [
    {
     "name": "stdout",
     "output_type": "stream",
     "text": [
      "[2.86305183e-02 1.50882936e-01 3.70948782e-01 6.89090700e-01\n",
      " 1.10562502e+00 1.62096175e+00 2.23561038e+00 2.95018337e+00\n",
      " 3.76539977e+00 4.68208939e+00 5.70119757e+00 6.82379091e+00\n",
      " 8.05106367e+00 9.38434531e+00 1.08251090e+01 1.23749816e+01\n",
      " 1.40357546e+01 1.58093972e+01 1.76980709e+01 1.97041465e+01\n",
      " 2.18302233e+01 2.40791514e+01 2.64540578e+01 2.89583760e+01\n",
      " 3.15958810e+01 3.43707300e+01 3.72875106e+01 4.03512976e+01\n",
      " 4.35677203e+01 4.69430440e+01 5.04842680e+01 5.41992449e+01\n",
      " 5.80968280e+01 6.21870542e+01 6.64813739e+01 7.09929448e+01\n",
      " 7.57370115e+01 8.07314048e+01 8.59972111e+01 9.15596904e+01\n",
      " 9.74495656e+01 1.03704891e+02 1.10373859e+02 1.17519198e+02\n",
      " 1.25225470e+02 1.33612028e+02 1.42858325e+02 1.53260372e+02\n",
      " 1.65385643e+02 1.80698344e+02] [7.14047261e-02 1.47148607e-01 1.85671628e-01 1.84385383e-01\n",
      " 1.54201169e-01 1.11685370e-01 7.10528855e-02 4.00202769e-02\n",
      " 2.00506231e-02 8.96085120e-03 3.57811242e-03 1.27761716e-03\n",
      " 4.08030245e-04 1.16528832e-04 2.97417049e-05 6.77784253e-06\n",
      " 1.37747950e-06 2.49288618e-07 4.01035435e-08 5.72333175e-09\n",
      " 7.22943425e-10 8.06171014e-11 7.91339310e-12 6.81573662e-13\n",
      " 5.13242672e-14 3.36562476e-15 1.91347633e-16 9.38558978e-18\n",
      " 3.95006996e-19 1.41774952e-20 4.30997028e-22 1.10125752e-23\n",
      " 2.34461776e-25 4.11854415e-27 5.90224676e-29 6.81200892e-31\n",
      " 6.23744950e-33 4.45244058e-35 2.42686235e-37 9.85297148e-40\n",
      " 2.89107887e-42 5.90616271e-45 8.01287460e-48 6.78957542e-51\n",
      " 3.30817301e-54 8.25096488e-58 8.84872813e-62 3.06489489e-66\n",
      " 1.98870823e-71 6.04956715e-78]\n"
     ]
    }
   ],
   "source": [
    "print(x,w)"
   ]
  },
  {
   "cell_type": "code",
   "execution_count": 21,
   "id": "2e670411-3e0e-49bc-a0dd-5bae81517762",
   "metadata": {},
   "outputs": [
    {
     "data": {
      "text/plain": [
       "1.0"
      ]
     },
     "execution_count": 21,
     "metadata": {},
     "output_type": "execute_result"
    }
   ],
   "source": [
    "g=np.zeros(50)\n",
    "for j in range(len(g)):\n",
    "    g[j]=np.exp(-x[j])\n",
    "np.sum(w*g*np.exp(x))\n",
    "    \n",
    "    "
   ]
  },
  {
   "cell_type": "code",
   "execution_count": 23,
   "id": "71809b36-9a7d-47a2-92e7-7d7eac58622d",
   "metadata": {},
   "outputs": [
    {
     "data": {
      "text/plain": [
       "0.8862269288840148"
      ]
     },
     "execution_count": 23,
     "metadata": {},
     "output_type": "execute_result"
    }
   ],
   "source": [
    "g=np.zeros(50)\n",
    "for j in range(len(g)):\n",
    "    g[j]=np.exp(-x[j]**2)\n",
    "np.sum(w*g*np.exp(x))"
   ]
  },
  {
   "cell_type": "code",
   "execution_count": 63,
   "id": "66b4c122-6aa7-4eb4-9ea4-7f0ee0e3caf1",
   "metadata": {},
   "outputs": [
    {
     "data": {
      "text/plain": [
       "5.68219697698353"
      ]
     },
     "execution_count": 63,
     "metadata": {},
     "output_type": "execute_result"
    }
   ],
   "source": [
    "def I1(u):\n",
    "    g=np.zeros(50)\n",
    "    for j in range(len(g)):\n",
    "        E=np.sqrt(x[j]**2+u**2)\n",
    "        g[j]=x[j]**2*E*(1/(np.exp(E)+1))\n",
    "    return np.sum(w*g*np.exp(x))\n",
    "I1(0)\n"
   ]
  },
  {
   "cell_type": "code",
   "execution_count": 67,
   "id": "278facf4-fbe4-42a8-8ad7-156e43aab89b",
   "metadata": {},
   "outputs": [
    {
     "data": {
      "text/plain": [
       "5.68219697698353"
      ]
     },
     "execution_count": 67,
     "metadata": {},
     "output_type": "execute_result"
    }
   ],
   "source": [
    "def I2(u):\n",
    "    g=np.zeros(50)\n",
    "    for j in range(len(g)):\n",
    "        E=np.sqrt(x[j]**2+u**2)\n",
    "        g[j]=(x[j]**4)/E*(1/(np.exp(E)+1))\n",
    "    return np.sum(w*g*np.exp(x))\n",
    "I2(0)"
   ]
  },
  {
   "cell_type": "code",
   "execution_count": null,
   "id": "bb2aab23-f494-470c-977e-53ae88fc6e7e",
   "metadata": {},
   "outputs": [],
   "source": []
  }
 ],
 "metadata": {
  "kernelspec": {
   "display_name": "Python 3 (ipykernel)",
   "language": "python",
   "name": "python3"
  },
  "language_info": {
   "codemirror_mode": {
    "name": "ipython",
    "version": 3
   },
   "file_extension": ".py",
   "mimetype": "text/x-python",
   "name": "python",
   "nbconvert_exporter": "python",
   "pygments_lexer": "ipython3",
   "version": "3.11.7"
  }
 },
 "nbformat": 4,
 "nbformat_minor": 5
}
